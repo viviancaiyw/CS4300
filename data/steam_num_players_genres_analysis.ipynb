{
 "cells": [
  {
   "cell_type": "code",
   "execution_count": 135,
   "metadata": {},
   "outputs": [],
   "source": [
    "import pandas as pd\n",
    "import matplotlib.pyplot as plt\n",
    "import os\n",
    "import numpy as np"
   ]
  },
  {
   "cell_type": "code",
   "execution_count": 136,
   "metadata": {},
   "outputs": [],
   "source": [
    "steam_data = os.path.join('steam_data', 'steam_games.csv')\n",
    "steam_data_df = pd.read_csv(steam_data)"
   ]
  },
  {
   "cell_type": "markdown",
   "metadata": {},
   "source": [
    "## Popular Tags Set"
   ]
  },
  {
   "cell_type": "code",
   "execution_count": 137,
   "metadata": {},
   "outputs": [],
   "source": [
    "tags = steam_data_df['popular_tags']"
   ]
  },
  {
   "cell_type": "code",
   "execution_count": 138,
   "metadata": {},
   "outputs": [],
   "source": [
    "all_tags = set()\n",
    "for tag in tags: \n",
    "    if type(tag) is str:\n",
    "        all_tags = all_tags.union(set(map(lambda x: x.lower(), tag.split(','))))"
   ]
  },
  {
   "cell_type": "code",
   "execution_count": 139,
   "metadata": {
    "scrolled": false
   },
   "outputs": [
    {
     "data": {
      "text/plain": [
       "{'1980s',\n",
       " \"1990's\",\n",
       " '2.5d',\n",
       " '2d',\n",
       " '2d fighter',\n",
       " '360 video',\n",
       " '3d',\n",
       " '3d platformer',\n",
       " '3d vision',\n",
       " '4 player local',\n",
       " '4x',\n",
       " '6dof',\n",
       " 'abstract',\n",
       " 'action',\n",
       " 'action rpg',\n",
       " 'action-adventure',\n",
       " 'addictive',\n",
       " 'adventure',\n",
       " 'agriculture',\n",
       " 'aliens',\n",
       " 'alternate history',\n",
       " 'america',\n",
       " 'animation & modeling',\n",
       " 'anime',\n",
       " 'arcade',\n",
       " 'arena shooter',\n",
       " 'artificial intelligence',\n",
       " 'assassin',\n",
       " 'asymmetric vr',\n",
       " 'asynchronous multiplayer',\n",
       " 'atmospheric',\n",
       " 'atv',\n",
       " 'audio production',\n",
       " 'automation',\n",
       " 'base building',\n",
       " 'baseball',\n",
       " 'based on a novel',\n",
       " 'basketball',\n",
       " 'batman',\n",
       " 'battle royale',\n",
       " \"beat 'em up\",\n",
       " 'beautiful',\n",
       " 'benchmark',\n",
       " 'bikes',\n",
       " 'blood',\n",
       " 'bmx',\n",
       " 'board game',\n",
       " 'bowling',\n",
       " 'building',\n",
       " 'bullet hell',\n",
       " 'bullet time',\n",
       " 'capitalism',\n",
       " 'card game',\n",
       " 'cartoon',\n",
       " 'cartoony',\n",
       " 'casual',\n",
       " 'cats',\n",
       " 'character action game',\n",
       " 'character customization',\n",
       " 'chess',\n",
       " 'choices matter',\n",
       " 'choose your own adventure',\n",
       " 'cinematic',\n",
       " 'city builder',\n",
       " 'class-based',\n",
       " 'classic',\n",
       " 'clicker',\n",
       " 'co-op',\n",
       " 'co-op campaign',\n",
       " 'cold war',\n",
       " 'colorful',\n",
       " 'comedy',\n",
       " 'comic book',\n",
       " 'competitive',\n",
       " 'conspiracy',\n",
       " 'controller',\n",
       " 'conversation',\n",
       " 'crafting',\n",
       " 'crime',\n",
       " 'crowdfunded',\n",
       " 'crpg',\n",
       " 'cult classic',\n",
       " 'cute',\n",
       " 'cyberpunk',\n",
       " 'cycling',\n",
       " 'dark',\n",
       " 'dark comedy',\n",
       " 'dark fantasy',\n",
       " 'dark humor',\n",
       " 'dating sim',\n",
       " 'demons',\n",
       " 'design & illustration',\n",
       " 'destruction',\n",
       " 'detective',\n",
       " 'difficult',\n",
       " 'dinosaurs',\n",
       " 'diplomacy',\n",
       " 'documentary',\n",
       " 'dog',\n",
       " 'dragons',\n",
       " 'drama',\n",
       " 'driving',\n",
       " 'dungeon crawler',\n",
       " 'dungeons & dragons',\n",
       " 'dynamic narration',\n",
       " 'dystopian',\n",
       " 'e-sports',\n",
       " 'early access',\n",
       " 'economy',\n",
       " 'education',\n",
       " 'emotional',\n",
       " 'epic',\n",
       " 'episodic',\n",
       " 'experience',\n",
       " 'experimental',\n",
       " 'exploration',\n",
       " 'faith',\n",
       " 'family friendly',\n",
       " 'fantasy',\n",
       " 'fast-paced',\n",
       " 'feature film',\n",
       " 'female protagonist',\n",
       " 'fighting',\n",
       " 'first-person',\n",
       " 'fishing',\n",
       " 'flight',\n",
       " 'fmv',\n",
       " 'football',\n",
       " 'foreign',\n",
       " 'fps',\n",
       " 'free to play',\n",
       " 'funny',\n",
       " 'futuristic',\n",
       " 'gambling',\n",
       " 'game development',\n",
       " 'gamemaker',\n",
       " 'games workshop',\n",
       " 'gaming',\n",
       " 'god game',\n",
       " 'golf',\n",
       " 'gore',\n",
       " 'gothic',\n",
       " 'grand strategy',\n",
       " 'great soundtrack',\n",
       " 'grid-based movement',\n",
       " 'gun customization',\n",
       " 'hack and slash',\n",
       " 'hacking',\n",
       " 'hand-drawn',\n",
       " 'hardware',\n",
       " 'heist',\n",
       " 'hex grid',\n",
       " 'hidden object',\n",
       " 'historical',\n",
       " 'hockey',\n",
       " 'horror',\n",
       " 'horses',\n",
       " 'hunting',\n",
       " 'illuminati',\n",
       " 'immersive sim',\n",
       " 'indie',\n",
       " 'intentionally awkward controls',\n",
       " 'interactive fiction',\n",
       " 'inventory management',\n",
       " 'investigation',\n",
       " 'isometric',\n",
       " 'jet',\n",
       " 'jrpg',\n",
       " 'kickstarter',\n",
       " 'lara croft',\n",
       " 'lego',\n",
       " 'lemmings',\n",
       " 'level editor',\n",
       " 'linear',\n",
       " 'local co-op',\n",
       " 'local multiplayer',\n",
       " 'logic',\n",
       " 'loot',\n",
       " 'lore-rich',\n",
       " 'lovecraftian',\n",
       " 'magic',\n",
       " 'management',\n",
       " 'mars',\n",
       " 'martial arts',\n",
       " 'massively multiplayer',\n",
       " 'masterpiece',\n",
       " 'match 3',\n",
       " 'mature',\n",
       " 'mechs',\n",
       " 'medieval',\n",
       " 'memes',\n",
       " 'metroidvania',\n",
       " 'military',\n",
       " 'mini golf',\n",
       " 'minigames',\n",
       " 'minimalist',\n",
       " 'mining',\n",
       " 'mmorpg',\n",
       " 'moba',\n",
       " 'mod',\n",
       " 'moddable',\n",
       " 'modern',\n",
       " 'motocross',\n",
       " 'motorbike',\n",
       " 'mouse only',\n",
       " 'movie',\n",
       " 'multiplayer',\n",
       " 'multiple endings',\n",
       " 'music',\n",
       " 'music-based procedural generation',\n",
       " 'mystery',\n",
       " 'mystery dungeon',\n",
       " 'mythology',\n",
       " 'narration',\n",
       " 'nature',\n",
       " 'naval',\n",
       " 'ninja',\n",
       " 'noir',\n",
       " 'nonlinear',\n",
       " 'nsfw',\n",
       " 'nudity',\n",
       " 'offroad',\n",
       " 'old school',\n",
       " 'on-rails shooter',\n",
       " 'online co-op',\n",
       " 'open world',\n",
       " 'otome',\n",
       " 'parkour',\n",
       " 'parody',\n",
       " 'party-based rpg',\n",
       " 'perma death',\n",
       " 'philisophical',\n",
       " 'photo editing',\n",
       " 'physics',\n",
       " 'pinball',\n",
       " 'pirates',\n",
       " 'pixel graphics',\n",
       " 'platformer',\n",
       " 'point & click',\n",
       " 'political',\n",
       " 'politics',\n",
       " 'pool',\n",
       " 'post-apocalyptic',\n",
       " 'procedural generation',\n",
       " 'programming',\n",
       " 'psychedelic',\n",
       " 'psychological',\n",
       " 'psychological horror',\n",
       " 'puzzle',\n",
       " 'puzzle-platformer',\n",
       " 'pve',\n",
       " 'pvp',\n",
       " 'quick-time events',\n",
       " 'racing',\n",
       " 'real time tactics',\n",
       " 'real-time',\n",
       " 'real-time with pause',\n",
       " 'realistic',\n",
       " 'relaxing',\n",
       " 'remake',\n",
       " 'replay value',\n",
       " 'resource management',\n",
       " 'retro',\n",
       " 'rhythm',\n",
       " 'robots',\n",
       " 'rogue-like',\n",
       " 'rogue-lite',\n",
       " 'romance',\n",
       " 'rome',\n",
       " 'rpg',\n",
       " 'rpgmaker',\n",
       " 'rts',\n",
       " 'runner',\n",
       " 'sailing',\n",
       " 'sandbox',\n",
       " 'satire',\n",
       " 'sci-fi',\n",
       " 'science',\n",
       " 'score attack',\n",
       " 'sequel',\n",
       " 'sexual content',\n",
       " \"shoot 'em up\",\n",
       " 'shooter',\n",
       " 'short',\n",
       " 'side scroller',\n",
       " 'silent protagonist',\n",
       " 'simulation',\n",
       " 'singleplayer',\n",
       " 'skateboarding',\n",
       " 'skating',\n",
       " 'skiing',\n",
       " 'sniper',\n",
       " 'snow',\n",
       " 'snowboarding',\n",
       " 'soccer',\n",
       " 'software',\n",
       " 'software training',\n",
       " 'sokoban',\n",
       " 'solitaire',\n",
       " 'souls-like',\n",
       " 'soundtrack',\n",
       " 'space',\n",
       " 'space sim',\n",
       " 'spectacle fighter',\n",
       " 'spelling',\n",
       " 'split screen',\n",
       " 'sports',\n",
       " 'star wars',\n",
       " 'stealth',\n",
       " 'steam machine',\n",
       " 'steampunk',\n",
       " 'story rich',\n",
       " 'strategy',\n",
       " 'strategy rpg',\n",
       " 'stylized',\n",
       " 'submarine',\n",
       " 'superhero',\n",
       " 'supernatural',\n",
       " 'surreal',\n",
       " 'survival',\n",
       " 'survival horror',\n",
       " 'swordplay',\n",
       " 'tactical',\n",
       " 'tactical rpg',\n",
       " 'tanks',\n",
       " 'team-based',\n",
       " 'tennis',\n",
       " 'text-based',\n",
       " 'third person',\n",
       " 'third-person shooter',\n",
       " 'thriller',\n",
       " 'time attack',\n",
       " 'time management',\n",
       " 'time manipulation',\n",
       " 'time travel',\n",
       " 'top-down',\n",
       " 'top-down shooter',\n",
       " 'touch-friendly',\n",
       " 'tower defense',\n",
       " 'trackir',\n",
       " 'trading',\n",
       " 'trading card game',\n",
       " 'trains',\n",
       " 'transhumanism',\n",
       " 'transportation',\n",
       " 'turn-based',\n",
       " 'turn-based combat',\n",
       " 'turn-based strategy',\n",
       " 'turn-based tactics',\n",
       " 'tutorial',\n",
       " 'twin stick shooter',\n",
       " 'typing',\n",
       " 'underground',\n",
       " 'underwater',\n",
       " 'unforgiving',\n",
       " 'utilities',\n",
       " 'vampire',\n",
       " 'video production',\n",
       " 'villain protagonist',\n",
       " 'violent',\n",
       " 'visual novel',\n",
       " 'voice control',\n",
       " 'voxel',\n",
       " 'vr',\n",
       " 'walking simulator',\n",
       " 'war',\n",
       " 'wargame',\n",
       " 'warhammer 40k',\n",
       " 'web publishing',\n",
       " 'werewolves',\n",
       " 'western',\n",
       " 'word game',\n",
       " 'world war i',\n",
       " 'world war ii',\n",
       " 'wrestling',\n",
       " 'zombies'}"
      ]
     },
     "execution_count": 139,
     "metadata": {},
     "output_type": "execute_result"
    }
   ],
   "source": [
    "all_tags"
   ]
  },
  {
   "cell_type": "markdown",
   "metadata": {},
   "source": [
    "## Number of Players"
   ]
  },
  {
   "cell_type": "code",
   "execution_count": 140,
   "metadata": {},
   "outputs": [],
   "source": [
    "def get_all_details():\n",
    "    game_details = set()\n",
    "    all_details = set()\n",
    "    for detail in steam_data_df['game_details']: \n",
    "        if type(detail) is str:\n",
    "            all_details = all_details.union(set(map(lambda x: x.lower().strip(), detail.split(','))))\n",
    "    return all_details\n",
    "\n",
    "all_details = get_all_details()"
   ]
  },
  {
   "cell_type": "code",
   "execution_count": 141,
   "metadata": {},
   "outputs": [
    {
     "name": "stdout",
     "output_type": "stream",
     "text": [
      "{'single': {'single-player'}, 'multi': {'local co-op', 'online multi-player', 'multi-player', 'online co-op', 'cross-platform multiplayer', 'co-op', 'mmo', 'local multi-player'}, 'unknown': {'game demo', 'in-app purchases', 'steam trading cards', 'stats', 'steam is learning about this downloadable content', 'steamvr collectibles', 'full controller support', 'steam achievements', 'profile features limited', 'steam is learning about this game', 'valve anti-cheat enabled', 'steam leaderboards', 'mods', 'captions available', 'partial controller support', 'shared/split screen', 'commentary available', 'steam cloud', 'steam workshop', 'downloadable content', 'includes source sdk', 'mods (require hl2)', 'includes level editor', 'steam turn notifications', 'steam is learning about this software'}}\n"
     ]
    }
   ],
   "source": [
    "category_label = {\n",
    "    \"single\": set(), \n",
    "    \"multi\": set(), \n",
    "    'unknown': set()\n",
    "}\n",
    "for ele in all_details:\n",
    "    if 'co-op' in ele or 'multi' in ele or 'mmo' in ele:\n",
    "        category_label['multi'].add(ele)\n",
    "    elif 'single' in ele:\n",
    "        category_label['single'].add(ele)\n",
    "    else:\n",
    "        category_label['unknown'].add(ele)\n",
    "\n",
    "print(category_label)"
   ]
  },
  {
   "cell_type": "code",
   "execution_count": 142,
   "metadata": {},
   "outputs": [],
   "source": [
    "number_of_players = {\n",
    "    \"single-player\": 0, \n",
    "    \"multiple-player\": 0, \n",
    "    \"single-and-multiple\": 0, \n",
    "    'unknown': 0\n",
    "}"
   ]
  },
  {
   "cell_type": "code",
   "execution_count": 143,
   "metadata": {
    "scrolled": false
   },
   "outputs": [],
   "source": [
    "index = 0\n",
    "for detail in steam_data_df['game_details']:\n",
    "    if type(detail) is str:\n",
    "        info = set(detail.lower().split(','))\n",
    "        is_single = len(info.intersection(category_label['single'])) > 0\n",
    "        is_multi = len(info.intersection(category_label['multi'])) > 0\n",
    "        if is_single and is_multi:\n",
    "            number_of_players['single-and-multiple'] += 1\n",
    "        elif is_single:\n",
    "            number_of_players['single-player'] += 1\n",
    "        elif is_multi:\n",
    "            number_of_players['multiple-player'] += 1\n",
    "        else:\n",
    "            number_of_players[\"unknown\"] += 1  \n",
    "    else:\n",
    "        number_of_players[\"unknown\"] += 1  \n",
    "    index += 1"
   ]
  },
  {
   "cell_type": "code",
   "execution_count": 144,
   "metadata": {},
   "outputs": [],
   "source": [
    "# steam_data_df.iloc[0]"
   ]
  },
  {
   "cell_type": "code",
   "execution_count": 145,
   "metadata": {},
   "outputs": [
    {
     "data": {
      "text/plain": [
       "{'single-player': 27202,\n",
       " 'multiple-player': 2737,\n",
       " 'single-and-multiple': 9261,\n",
       " 'unknown': 1633}"
      ]
     },
     "execution_count": 145,
     "metadata": {},
     "output_type": "execute_result"
    }
   ],
   "source": [
    "number_of_players"
   ]
  },
  {
   "cell_type": "code",
   "execution_count": 146,
   "metadata": {},
   "outputs": [
    {
     "data": {
      "image/png": "[encoded data removed]",
      "text/plain": [
       "<Figure size 432x288 with 1 Axes>"
      ]
     },
     "metadata": {
      "needs_background": "light"
     },
     "output_type": "display_data"
    }
   ],
   "source": [
    "fig = plt.figure()\n",
    "ax = fig.add_axes([0,0,1,1])\n",
    "player_types = list(number_of_players.keys())\n",
    "stats = list(number_of_players.values())\n",
    "ax.set_ylabel('Number of Games')\n",
    "ax.set_xlabel('Players Mode')\n",
    "ax.set_title('Number of Games v.s. Number of Players')\n",
    "ax.bar(player_types,stats, color='purple')\n",
    "plt.show()"
   ]
  },
  {
   "cell_type": "code",
   "execution_count": 147,
   "metadata": {},
   "outputs": [],
   "source": [
    "index = 0\n",
    "unknown_games_idx = set()\n",
    "for detail in steam_data_df['game_details']:\n",
    "    if type(detail) is str:\n",
    "        info = set(detail.lower().split(','))\n",
    "        is_single = len(info.intersection(category_label['single'])) > 0\n",
    "        is_multi = len(info.intersection(category_label['multi'])) > 0\n",
    "        if not is_single and not is_multi:\n",
    "            unknown_games_idx.add(index)\n",
    "    else:\n",
    "        unknown_games_idx.add(index)\n",
    "    index += 1\n",
    "\n",
    "genres_info_list = []\n",
    "for game in unknown_games_idx:\n",
    "    genre = steam_data_df.iloc[game]['genre']\n",
    "    if type(genre) is str:\n",
    "        genres_info_list.append(steam_data_df.iloc[game]['genre'].split(','))"
   ]
  },
  {
   "cell_type": "code",
   "execution_count": 148,
   "metadata": {
    "scrolled": false
   },
   "outputs": [
    {
     "name": "stdout",
     "output_type": "stream",
     "text": [
      "{'Software Training', 'Sports', '360 Video', 'RPG', 'Game Development', 'Accounting', 'Video Production', 'Valve', 'Web Publishing', 'Utilities', 'HTC', 'Early Access', 'Indie', 'Short', 'Animation & Modeling', 'Strategy', 'Action', 'Massively Multiplayer', 'Simulation', 'Casual', 'Movie', 'Racing', 'Education', 'Nudity', 'Audio Production', 'Violent', 'Free to Play', 'Design & Illustration', 'Adventure', 'Photo Editing'}\n"
     ]
    }
   ],
   "source": [
    "all_unknown_players_genres = set()\n",
    "for val in genres_info_list:\n",
    "    val_set = set(val)\n",
    "    all_unknown_players_genres.update(val_set)\n",
    "print(all_unknown_players_genres)"
   ]
  },
  {
   "cell_type": "code",
   "execution_count": 149,
   "metadata": {},
   "outputs": [
    {
     "name": "stdout",
     "output_type": "stream",
     "text": [
      "utility_num = 1010\n",
      "not_utility_num = 250\n"
     ]
    },
    {
     "data": {
      "image/png": "[encoded data removed]",
      "text/plain": [
       "<Figure size 432x288 with 1 Axes>"
      ]
     },
     "metadata": {},
     "output_type": "display_data"
    }
   ],
   "source": [
    "utility_set = {\n",
    "    'Software Training', 'Game Development', 'Accounting', \n",
    "    'Video Production', 'Web Publishing', 'Utilities', 'Simulation', \n",
    "    'Design & Illustration', 'Audio Production', 'Photo Editing', \n",
    "    'Animation & Modeling'}\n",
    "\n",
    "utility_num = 0\n",
    "not_utility_num = 0\n",
    "for val in genres_info_list:\n",
    "    val_set = set(val)\n",
    "    if val_set.intersection(utility_set):\n",
    "        utility_num += 1\n",
    "    else:\n",
    "        not_utility_num += 1\n",
    "print(f'utility_num = {utility_num}')\n",
    "print(f'not_utility_num = {not_utility_num}')\n",
    "\n",
    "\n",
    "y = np.array([utility_num, not_utility_num])\n",
    "mylabels = [\"Tools\", \"Games\"]\n",
    "colors = ['lightcoral', 'lightskyblue']\n",
    "plt.pie(y, labels = mylabels, colors=colors,autopct='%1.1f%%', shadow=True)\n",
    "plt.title(\"Unknown Number of Player Games Breakdown \")\n",
    "plt.tight_layout()\n",
    "plt.show() "
   ]
  },
  {
   "cell_type": "markdown",
   "metadata": {},
   "source": [
    "## Genre"
   ]
  },
  {
   "cell_type": "code",
   "execution_count": 150,
   "metadata": {
    "scrolled": false
   },
   "outputs": [],
   "source": [
    "def get_all_genres():\n",
    "    genre_set = set()\n",
    "    for genre in steam_data_df['genre']: \n",
    "        if type(genre) is str:\n",
    "            genre_set = genre_set.union(set(map(lambda x: x.strip(), genre.split(','))))\n",
    "    return genre_set\n",
    "\n",
    "genres = get_all_genres()"
   ]
  },
  {
   "cell_type": "code",
   "execution_count": 151,
   "metadata": {},
   "outputs": [
    {
     "data": {
      "text/plain": [
       "{'360 Video',\n",
       " 'Accounting',\n",
       " 'Action',\n",
       " 'Adventure',\n",
       " 'Animation & Modeling',\n",
       " 'Audio Production',\n",
       " 'Casual',\n",
       " 'Design & Illustration',\n",
       " 'Documentary',\n",
       " 'Early Access',\n",
       " 'Education',\n",
       " 'Free to Play',\n",
       " 'Game Development',\n",
       " 'Gore',\n",
       " 'HTC',\n",
       " 'Indie',\n",
       " 'Massively Multiplayer',\n",
       " 'Movie',\n",
       " 'Nudity',\n",
       " 'Photo Editing',\n",
       " 'RPG',\n",
       " 'Racing',\n",
       " 'Sexual Content',\n",
       " 'Short',\n",
       " 'Simulation',\n",
       " 'Software Training',\n",
       " 'Sports',\n",
       " 'Strategy',\n",
       " 'Tutorial',\n",
       " 'Utilities',\n",
       " 'Valve',\n",
       " 'Video Production',\n",
       " 'Violent',\n",
       " 'Web Publishing'}"
      ]
     },
     "execution_count": 151,
     "metadata": {},
     "output_type": "execute_result"
    }
   ],
   "source": [
    "genres"
   ]
  },
  {
   "cell_type": "code",
   "execution_count": 152,
   "metadata": {},
   "outputs": [
    {
     "name": "stdout",
     "output_type": "stream",
     "text": [
      "{'one genre': 8221, 'multiple genres': 32174}\n"
     ]
    }
   ],
   "source": [
    "def num_genres():\n",
    "    genre_num_dict = dict()\n",
    "    for genre in steam_data_df['genre']: \n",
    "        if type(genre) is str:\n",
    "            genre_set = set(map(lambda x: x.strip(), genre.split(',')))\n",
    "            if len(genre_set) == 1:\n",
    "                genre_num_dict['one genre'] = genre_num_dict.get('one genre', 0) + 1\n",
    "            elif len(genre_set) > 1:\n",
    "                genre_num_dict['multiple genres'] = genre_num_dict.get('multiple genres', 0) + 1\n",
    "            else:\n",
    "                genre_num_dict['unknown'] = genre_num_dict.get('unknown', 0) + 1\n",
    "    return genre_num_dict\n",
    "\n",
    "num_genres = num_genres()\n",
    "print(num_genres)"
   ]
  },
  {
   "cell_type": "code",
   "execution_count": 153,
   "metadata": {},
   "outputs": [
    {
     "data": {
      "image/png": "[encoded data removed]",
      "text/plain": [
       "<Figure size 432x288 with 1 Axes>"
      ]
     },
     "metadata": {
      "needs_background": "light"
     },
     "output_type": "display_data"
    }
   ],
   "source": [
    "fig = plt.figure()\n",
    "ax = fig.add_axes([0,0,1,1])\n",
    "player_types = list(num_genres.keys())\n",
    "stats = list(num_genres.values())\n",
    "ax.set_ylabel('Number of Games')\n",
    "ax.set_xlabel('Genres Number')\n",
    "ax.set_title('Number of Games v.s. Number of Genres')\n",
    "ax.bar(player_types,stats, color='Green')\n",
    "plt.show()"
   ]
  },
  {
   "cell_type": "code",
   "execution_count": 164,
   "metadata": {},
   "outputs": [],
   "source": [
    "steam_data_df_sample = steam_data_df.head(100)\n",
    "steam_data_df_sample.to_csv(os.path.join('steam_data', 'steam_games_sample.csv'))"
   ]
  },
  {
   "cell_type": "code",
   "execution_count": 163,
   "metadata": {},
   "outputs": [],
   "source": []
  },
  {
   "cell_type": "code",
   "execution_count": null,
   "metadata": {},
   "outputs": [],
   "source": []
  }
 ],
 "metadata": {
  "kernelspec": {
   "display_name": "Python 3",
   "language": "python",
   "name": "python3"
  },
  "language_info": {
   "codemirror_mode": {
    "name": "ipython",
    "version": 3
   },
   "file_extension": ".py",
   "mimetype": "text/x-python",
   "name": "python",
   "nbconvert_exporter": "python",
   "pygments_lexer": "ipython3",
   "version": "3.8.3"
  },
  "varInspector": {
   "cols": {
    "lenName": 16,
    "lenType": 16,
    "lenVar": 40
   },
   "kernels_config": {
    "python": {
     "delete_cmd_postfix": "",
     "delete_cmd_prefix": "del ",
     "library": "var_list.py",
     "varRefreshCmd": "print(var_dic_list())"
    },
    "r": {
     "delete_cmd_postfix": ") ",
     "delete_cmd_prefix": "rm(",
     "library": "var_list.r",
     "varRefreshCmd": "cat(var_dic_list()) "
    }
   },
   "types_to_exclude": [
    "module",
    "function",
    "builtin_function_or_method",
    "instance",
    "_Feature"
   ],
   "window_display": false
  }
 },
 "nbformat": 4,
 "nbformat_minor": 5
}