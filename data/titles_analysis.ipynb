{
 "cells": [
  {
   "cell_type": "code",
   "execution_count": 150,
   "id": "metropolitan-anchor",
   "metadata": {},
   "outputs": [],
   "source": [
    "import nltk\n",
    "import os\n",
    "import pandas as pd\n",
    "import numpy as np\n",
    "import json\n",
    "import re"
   ]
  },
  {
   "cell_type": "code",
   "execution_count": 151,
   "id": "finite-subdivision",
   "metadata": {},
   "outputs": [],
   "source": [
    "MOVIE_DATA = 'movies_metadata.csv'"
   ]
  },
  {
   "cell_type": "code",
   "execution_count": 155,
   "id": "round-olive",
   "metadata": {},
   "outputs": [],
   "source": [
    "with open(MOVIE_DATA, 'r') as f:\n",
    "    movie_data_df = pd.read_csv(f)\n",
    "    movie_titles = sorted(list(filter(lambda x: not pd.isnull(x), movie_data_df['original_title'])))"
   ]
  },
  {
   "cell_type": "code",
   "execution_count": 156,
   "id": "fancy-samuel",
   "metadata": {},
   "outputs": [],
   "source": [
    "STEAM_DATA = os.path.join('steam_data', 'steam_data.csv')\n",
    "AVAILABLE_GAMES = os.path.join('steamData', '80k_data', 'available_games.json')"
   ]
  },
  {
   "cell_type": "code",
   "execution_count": 157,
   "id": "colonial-craps",
   "metadata": {},
   "outputs": [],
   "source": [
    "available_game_ids = json.load(open(AVAILABLE_GAMES, 'r'))"
   ]
  },
  {
   "cell_type": "code",
   "execution_count": 158,
   "id": "seeing-arena",
   "metadata": {},
   "outputs": [],
   "source": [
    "with open(STEAM_DATA, 'r') as f:\n",
    "    steam_data_df = pd.read_csv(f)\n",
    "    fn = lambda x: x.url.split('/')[4]\n",
    "    steam_data_df['app_id'] = steam_data_df.apply(fn, axis=1)"
   ]
  },
  {
   "cell_type": "code",
   "execution_count": 159,
   "id": "established-maria",
   "metadata": {},
   "outputs": [],
   "source": [
    "all_ids = set(steam_data_df['app_id'])\n",
    "available_game_ids_set = set(map(str, available_game_ids))\n",
    "steam_data_df_filtered = steam_data_df[steam_data_df['app_id'].isin(available_game_ids_set)]"
   ]
  },
  {
   "cell_type": "code",
   "execution_count": 163,
   "id": "impaired-register",
   "metadata": {},
   "outputs": [],
   "source": [
    "steam_titles = list(sorted(set(steam_data_df_filtered['name'])))"
   ]
  },
  {
   "cell_type": "code",
   "execution_count": 190,
   "id": "identical-webster",
   "metadata": {
    "scrolled": false
   },
   "outputs": [],
   "source": [
    "movie_titles_set = set(map(lambda x: x.lower(), movie_titles))\n",
    "steam_titles_set = set(map(lambda x: x.lower(), steam_titles))"
   ]
  },
  {
   "cell_type": "code",
   "execution_count": 191,
   "id": "minus-cambodia",
   "metadata": {},
   "outputs": [],
   "source": [
    "same_title = {\"same_titles\": list(movie_titles_set.intersection(steam_titles_set))}\n",
    "json.dump(same_title, open('./steamData/80k_data/movie_steam_same_titles.json', 'w+'), indent=4)"
   ]
  },
  {
   "cell_type": "code",
   "execution_count": 240,
   "id": "million-formation",
   "metadata": {
    "scrolled": false
   },
   "outputs": [
    {
     "name": "stdout",
     "output_type": "stream",
     "text": [
      "i = 0\n",
      "passed: 0.04380011558532715\n",
      "i = 500\n",
      "passed: 18.89723801612854\n",
      "i = 1000\n",
      "passed: 35.95387005805969\n",
      "i = 1500\n",
      "passed: 52.92241096496582\n",
      "i = 2000\n",
      "passed: 71.89214515686035\n",
      "i = 2500\n",
      "passed: 90.56083917617798\n",
      "i = 3000\n",
      "passed: 108.76062202453613\n",
      "i = 3500\n",
      "passed: 124.44826698303223\n",
      "i = 4000\n",
      "passed: 139.76490020751953\n",
      "i = 4500\n",
      "passed: 155.06018805503845\n",
      "i = 5000\n",
      "passed: 170.28989100456238\n",
      "i = 5500\n",
      "passed: 185.61902928352356\n",
      "i = 6000\n",
      "passed: 200.8940601348877\n",
      "i = 6500\n",
      "passed: 216.28936004638672\n",
      "i = 7000\n",
      "passed: 232.8297131061554\n",
      "i = 7500\n",
      "passed: 248.0979402065277\n",
      "i = 8000\n",
      "passed: 263.35445499420166\n",
      "i = 8500\n",
      "passed: 278.60399103164673\n",
      "i = 9000\n",
      "passed: 294.1783640384674\n",
      "i = 9500\n",
      "passed: 309.50119495391846\n",
      "i = 10000\n",
      "passed: 324.63406014442444\n",
      "i = 10500\n",
      "passed: 339.9628572463989\n",
      "i = 11000\n",
      "passed: 355.2036051750183\n",
      "i = 11500\n",
      "passed: 370.4774661064148\n",
      "i = 12000\n",
      "passed: 385.65658712387085\n",
      "i = 12500\n",
      "passed: 401.0644452571869\n",
      "i = 13000\n",
      "passed: 416.4612011909485\n",
      "i = 13500\n",
      "passed: 432.2381501197815\n",
      "i = 14000\n",
      "passed: 447.5947482585907\n",
      "i = 14500\n",
      "passed: 463.06625509262085\n",
      "i = 15000\n",
      "passed: 478.59548902511597\n",
      "i = 15500\n",
      "passed: 497.3667461872101\n",
      "i = 16000\n",
      "passed: 517.0680201053619\n",
      "i = 16500\n",
      "passed: 535.8573291301727\n",
      "i = 17000\n",
      "passed: 551.0934572219849\n",
      "i = 17500\n",
      "passed: 566.4493019580841\n",
      "i = 18000\n",
      "passed: 581.6781911849976\n",
      "i = 18500\n",
      "passed: 596.8741962909698\n",
      "i = 19000\n",
      "passed: 612.0771560668945\n",
      "i = 19500\n",
      "passed: 627.2701501846313\n",
      "i = 20000\n",
      "passed: 642.7932641506195\n",
      "i = 20500\n",
      "passed: 659.1020269393921\n",
      "i = 21000\n",
      "passed: 680.3119630813599\n",
      "i = 21500\n",
      "passed: 699.6319630146027\n",
      "i = 22000\n",
      "passed: 717.6984190940857\n",
      "i = 22500\n",
      "passed: 737.1034641265869\n",
      "i = 23000\n",
      "passed: 754.9039890766144\n",
      "i = 23500\n",
      "passed: 771.1181211471558\n",
      "i = 24000\n",
      "passed: 791.3707211017609\n",
      "i = 24500\n",
      "passed: 815.3676941394806\n",
      "i = 25000\n",
      "passed: 830.7286503314972\n",
      "i = 25500\n",
      "passed: 846.2171912193298\n",
      "i = 26000\n",
      "passed: 861.7367842197418\n",
      "i = 26500\n",
      "passed: 877.3111252784729\n",
      "i = 27000\n",
      "passed: 893.262707233429\n",
      "i = 27500\n",
      "passed: 910.0264229774475\n",
      "i = 28000\n",
      "passed: 925.7856450080872\n",
      "i = 28500\n",
      "passed: 942.2620069980621\n",
      "i = 29000\n",
      "passed: 959.0484461784363\n",
      "i = 29500\n",
      "passed: 975.3750400543213\n",
      "i = 30000\n",
      "passed: 992.0704081058502\n",
      "i = 30500\n",
      "passed: 1008.6996531486511\n",
      "i = 31000\n",
      "passed: 1026.8578960895538\n",
      "i = 31500\n",
      "passed: 1043.7442889213562\n",
      "i = 32000\n",
      "passed: 1061.1290121078491\n",
      "i = 32500\n",
      "passed: 1077.7959032058716\n",
      "i = 33000\n",
      "passed: 1100.5155482292175\n",
      "i = 33500\n",
      "passed: 1118.641811132431\n",
      "i = 34000\n",
      "passed: 1136.896861076355\n",
      "i = 34500\n",
      "passed: 1152.7498841285706\n",
      "i = 35000\n",
      "passed: 1171.6182372570038\n",
      "i = 35500\n",
      "passed: 1189.601576089859\n",
      "i = 36000\n",
      "passed: 1207.0310320854187\n",
      "i = 36500\n",
      "passed: 1222.8930761814117\n",
      "i = 37000\n",
      "passed: 1238.556048154831\n",
      "i = 37500\n",
      "passed: 1254.6002371311188\n",
      "i = 38000\n",
      "passed: 1270.5950770378113\n",
      "i = 38500\n",
      "passed: 1286.403212070465\n",
      "i = 39000\n",
      "passed: 1303.451915025711\n",
      "i = 39500\n",
      "passed: 1329.762942314148\n",
      "i = 40000\n",
      "passed: 1348.4658732414246\n",
      "i = 40500\n",
      "passed: 1375.7642722129822\n",
      "i = 41000\n",
      "passed: 1399.3468670845032\n",
      "i = 41500\n",
      "passed: 1417.2936391830444\n",
      "i = 42000\n",
      "passed: 1439.0967242717743\n",
      "i = 42500\n",
      "passed: 1457.4576110839844\n",
      "i = 43000\n",
      "passed: 1474.304526090622\n"
     ]
    }
   ],
   "source": [
    "from difflib import SequenceMatcher\n",
    "import time\n",
    "\n",
    "\n",
    "movie_titles_list = sorted(list(movie_titles_set))\n",
    "steam_titles_list = sorted(list(steam_titles_set))\n",
    "title_sim_mat = np.zeros((len(movie_titles_list), len(steam_titles_list)))\n",
    "\n",
    "start = time.time()\n",
    "for i in range(len(movie_titles_list)):\n",
    "    for j in range(len(steam_titles_list)):\n",
    "        title_sim_mat[i,j] = SequenceMatcher(movie_titles_list[i], steam_titles_list[j]).ratio()\n",
    "    cur_time = time.time()\n",
    "    if (i % 500 == 0):\n",
    "        print(f'i = {i}')\n",
    "        print(f'passed: {cur_time - start}')"
   ]
  },
  {
   "cell_type": "code",
   "execution_count": 248,
   "id": "outstanding-tactics",
   "metadata": {},
   "outputs": [],
   "source": [
    "sim_df = pd.DataFrame(title_sim_mat, columns = steam_titles_list, index = movie_titles_list)"
   ]
  },
  {
   "cell_type": "code",
   "execution_count": 254,
   "id": "exotic-light",
   "metadata": {},
   "outputs": [],
   "source": [
    "sim_df.to_csv('movie_game_title_similarity.csv')"
   ]
  },
  {
   "cell_type": "markdown",
   "id": "impressive-modern",
   "metadata": {},
   "source": [
    "## Draft"
   ]
  },
  {
   "cell_type": "code",
   "execution_count": 214,
   "id": "tired-poland",
   "metadata": {},
   "outputs": [
    {
     "data": {
      "text/plain": [
       "array([1992, 1344, 2164, ..., 1817, 1816,    0])"
      ]
     },
     "execution_count": 214,
     "metadata": {},
     "output_type": "execute_result"
    }
   ],
   "source": [
    "np.argsort(title_sim_mat[0])[::-1]"
   ]
  },
  {
   "cell_type": "code",
   "execution_count": 208,
   "id": "african-passion",
   "metadata": {},
   "outputs": [
    {
     "name": "stdout",
     "output_type": "stream",
     "text": [
      "sniper art of victory 0.5669467095138409\n",
      "martial arts brutality 0.3919309008348103\n",
      "sword art online: fatal bullet 0.3779644730092272\n"
     ]
    }
   ],
   "source": [
    "print(steam_titles_list[1992], title_sim_mat[0][1992])\n",
    "print(steam_titles_list[1344], title_sim_mat[0][1344])\n",
    "print(steam_titles_list[2164], title_sim_mat[0][2164])"
   ]
  },
  {
   "cell_type": "code",
   "execution_count": 215,
   "id": "beautiful-approval",
   "metadata": {},
   "outputs": [
    {
     "data": {
      "text/plain": [
       "20801"
      ]
     },
     "execution_count": 215,
     "metadata": {},
     "output_type": "execute_result"
    }
   ],
   "source": [
    "movie_titles_list.index('max payne')"
   ]
  },
  {
   "cell_type": "code",
   "execution_count": 233,
   "id": "presidential-creator",
   "metadata": {},
   "outputs": [],
   "source": [
    "from difflib import SequenceMatcher\n",
    "\n",
    "for j in range(len(steam_titles_list)):\n",
    "    title_sim_mat[20801,j] = SequenceMatcher(None, movie_titles_list[20801], steam_titles_list[j]).ratio()"
   ]
  },
  {
   "cell_type": "code",
   "execution_count": 235,
   "id": "fantastic-kelly",
   "metadata": {
    "scrolled": true
   },
   "outputs": [
    {
     "name": "stdout",
     "output_type": "stream",
     "text": [
      "max payne\n"
     ]
    },
    {
     "data": {
      "text/plain": [
       "[1355, 1357, 1354, 543, 1339, 886, 1699, 113, 616, 1599]"
      ]
     },
     "execution_count": 235,
     "metadata": {},
     "output_type": "execute_result"
    }
   ],
   "source": [
    "print(movie_titles_list[20801])\n",
    "list(np.argsort(title_sim_mat[20801])[::-1])[:10]"
   ]
  },
  {
   "cell_type": "code",
   "execution_count": 237,
   "id": "historical-acting",
   "metadata": {},
   "outputs": [
    {
     "name": "stdout",
     "output_type": "stream",
     "text": [
      "max payne 3 0.9\n"
     ]
    }
   ],
   "source": []
  },
  {
   "cell_type": "code",
   "execution_count": null,
   "id": "cloudy-ferry",
   "metadata": {},
   "outputs": [],
   "source": []
  }
 ],
 "metadata": {
  "kernelspec": {
   "display_name": "tutorial_venv",
   "language": "python",
   "name": "tutorial_venv"
  },
  "language_info": {
   "codemirror_mode": {
    "name": "ipython",
    "version": 3
   },
   "file_extension": ".py",
   "mimetype": "text/x-python",
   "name": "python",
   "nbconvert_exporter": "python",
   "pygments_lexer": "ipython3",
   "version": "3.7.10"
  }
 },
 "nbformat": 4,
 "nbformat_minor": 5
}
