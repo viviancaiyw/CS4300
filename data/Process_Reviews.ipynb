{
 "cells": [
  {
   "cell_type": "code",
   "execution_count": 72,
   "metadata": {},
   "outputs": [
    {
     "name": "stderr",
     "output_type": "stream",
     "text": [
      "[nltk_data] Downloading package stopwords to\n",
      "[nltk_data]     /Users/viviancai/nltk_data...\n",
      "[nltk_data]   Package stopwords is already up-to-date!\n",
      "[nltk_data] Downloading package averaged_perceptron_tagger to\n",
      "[nltk_data]     /Users/viviancai/nltk_data...\n",
      "[nltk_data]   Package averaged_perceptron_tagger is already up-to-\n",
      "[nltk_data]       date!\n",
      "[nltk_data] Downloading package wordnet to\n",
      "[nltk_data]     /Users/viviancai/nltk_data...\n",
      "[nltk_data]   Package wordnet is already up-to-date!\n"
     ]
    },
    {
     "data": {
      "text/plain": [
       "True"
      ]
     },
     "execution_count": 72,
     "metadata": {},
     "output_type": "execute_result"
    }
   ],
   "source": [
    "import pandas as pd\n",
    "import nltk\n",
    "from nltk.corpus import stopwords\n",
    "from nltk.stem import WordNetLemmatizer\n",
    "nltk.download('stopwords')\n",
    "nltk.download('averaged_perceptron_tagger')\n",
    "nltk.download('wordnet')"
   ]
  },
  {
   "cell_type": "code",
   "execution_count": 291,
   "metadata": {},
   "outputs": [],
   "source": [
    "data = pd.read_csv('10_CounterStrike.csv')"
   ]
  },
  {
   "cell_type": "code",
   "execution_count": 292,
   "metadata": {},
   "outputs": [],
   "source": [
    "data = data[data['language']=='english']\n",
    "data = data.drop(columns=['recommendationid', \n",
    "                   'timestamp_created', \n",
    "                   'timestamp_updated',\n",
    "                   'steam_purchase',\n",
    "                  'received_for_free',\n",
    "                  'written_during_early_access',\n",
    "                  'author.steamid',\n",
    "                  'author.num_games_owned',\n",
    "                  'author.num_reviews',\n",
    "                  'author.last_played'])"
   ]
  },
  {
   "cell_type": "code",
   "execution_count": 300,
   "metadata": {},
   "outputs": [],
   "source": [
    "reviews = data['review'].str.replace(\"[^a-zA-Z#]\", \" \")\n",
    "reviews = reviews.astype(str)\n",
    "reviews = reviews.apply(lambda x: ' '.join([w.lower() for w in x.split() if len(w)>2]))"
   ]
  },
  {
   "cell_type": "code",
   "execution_count": 301,
   "metadata": {},
   "outputs": [],
   "source": [
    "# Keep noun\n",
    "is_noun_or_adj = lambda pos: pos[:2]=='NN' or pos[:2]=='JJ'\n",
    "lemmatizer = WordNetLemmatizer()\n",
    "\n",
    "def noun_adj_processor(word, pos):\n",
    "    if pos[:2] == 'NN':\n",
    "        return lemmatizer.lemmatize(word)\n",
    "    else:\n",
    "        return lemmatizer.lemmatize(word, pos='a')\n",
    "\n",
    "def keep_noun_and_adj(rev):\n",
    "    rev_new = \" \".join([noun_adj_processor(word, pos) for (word,pos) in nltk.pos_tag(rev) if is_noun_or_adj(pos)])\n",
    "    return rev_new"
   ]
  },
  {
   "cell_type": "code",
   "execution_count": 302,
   "metadata": {},
   "outputs": [],
   "source": [
    "# Remove stop words\n",
    "stop_words = stopwords.words('english')\n",
    "stop_words.extend(['player', 'play', 'people', 'game', 'steam','review',\n",
    "                  'day', 'year', 'hour', 'minute','time','moment',\n",
    "                  'world', 'yes', 'lol', 'lmao', 'cool', 'love', 'get',\n",
    "                  'good', 'great', 'nice', 'best', 'fun', 'awesome',\n",
    "                   'ever', 'kinda', 'shit', 'yeah', 'new', 'old',\n",
    "                  'big','small','high','low','many','much','lot',\n",
    "                  'others','thank','http','thing','everyone','anyone','anything',\n",
    "                  'everything','cant','dont','guy','hello',\n",
    "                  'youtube','something','someone','pro','con',\n",
    "                  'haha', 'hehe','end','nothing','no','one',\n",
    "                  'fine','first','last','epic','english','bit',\n",
    "                  'terrible','overall','original','life','bad',\n",
    "                  'today','fps','gameplay','favorite','com',\n",
    "                  'man','word','version','pure','experience','www',\n",
    "                  'please','thanks','little','least'])"
   ]
  },
  {
   "cell_type": "code",
   "execution_count": 303,
   "metadata": {},
   "outputs": [],
   "source": [
    "def remove_stopwords(rev):\n",
    "    rev_new = \" \".join([i for i in rev if i not in stop_words])\n",
    "    return rev_new"
   ]
  },
  {
   "cell_type": "code",
   "execution_count": 304,
   "metadata": {},
   "outputs": [],
   "source": [
    "reviews = [keep_noun_and_adj(r.split()) for r in reviews]\n",
    "reviews = [remove_stopwords(r.split()) for r in reviews]\n",
    "\n",
    "# Clean one more time\n",
    "reviews = [keep_noun_and_adj(r.split()) for r in reviews]\n",
    "reviews = [remove_stopwords(r.split()) for r in reviews]"
   ]
  },
  {
   "cell_type": "code",
   "execution_count": 305,
   "metadata": {},
   "outputs": [],
   "source": [
    "reviews = list(filter(None, reviews))\n",
    "reviews = [list(set(r.split())) for r in reviews]"
   ]
  },
  {
   "cell_type": "code",
   "execution_count": 306,
   "metadata": {},
   "outputs": [
    {
     "data": {
      "text/plain": [
       "[('classic', 94),\n",
       " ('strike', 76),\n",
       " ('counter', 67),\n",
       " ('server', 40),\n",
       " ('gold', 40),\n",
       " ('csgo', 40),\n",
       " ('childhood', 40),\n",
       " ('nostalgia', 34),\n",
       " ('graphic', 32),\n",
       " ('school', 31),\n",
       " ('shooter', 30),\n",
       " ('memory', 27),\n",
       " ('legendary', 27),\n",
       " ('community', 27),\n",
       " ('friend', 23),\n",
       " ('way', 19),\n",
       " ('hard', 19),\n",
       " ('nostalgic', 18),\n",
       " ('map', 15),\n",
       " ('source', 14),\n",
       " ('competitive', 14),\n",
       " ('offensive', 13),\n",
       " ('gun', 13),\n",
       " ('global', 13),\n",
       " ('bot', 13),\n",
       " ('simple', 12),\n",
       " ('real', 12),\n",
       " ('multiplayer', 12),\n",
       " ('mod', 12),\n",
       " ('computer', 12),\n",
       " ('skill', 11),\n",
       " ('online', 11),\n",
       " ('jogo', 11),\n",
       " ('history', 11),\n",
       " ('half', 11),\n",
       " ('free', 11),\n",
       " ('easy', 11),\n",
       " ('valve', 10),\n",
       " ('team', 10),\n",
       " ('que', 10),\n",
       " ('point', 10),\n",
       " ('perfect', 10),\n",
       " ('door', 10),\n",
       " ('active', 10),\n",
       " ('sure', 9),\n",
       " ('series', 9),\n",
       " ('popular', 9),\n",
       " ('kid', 9),\n",
       " ('full', 9),\n",
       " ('dead', 9),\n",
       " ('zombie', 8),\n",
       " ('weapon', 8),\n",
       " ('son', 8),\n",
       " ('reason', 8),\n",
       " ('person', 8),\n",
       " ('match', 8),\n",
       " ('lan', 8),\n",
       " ('guess', 8),\n",
       " ('veteran', 7),\n",
       " ('update', 7),\n",
       " ('system', 7),\n",
       " ('standard', 7),\n",
       " ('skin', 7),\n",
       " ('russian', 7),\n",
       " ('part', 7),\n",
       " ('money', 7),\n",
       " ('mode', 7),\n",
       " ('masterpiece', 7),\n",
       " ('level', 7),\n",
       " ('legend', 7),\n",
       " ('juego', 7),\n",
       " ('fire', 7),\n",
       " ('cheater', 7),\n",
       " ('bomb', 7),\n",
       " ('alive', 7),\n",
       " ('worth', 6),\n",
       " ('work', 6),\n",
       " ('wall', 6),\n",
       " ('texture', 6),\n",
       " ('tare', 6),\n",
       " ('style', 6),\n",
       " ('story', 6),\n",
       " ('rush', 6),\n",
       " ('number', 6),\n",
       " ('movement', 6),\n",
       " ('modern', 6),\n",
       " ('miss', 6),\n",
       " ('mechanic', 6),\n",
       " ('long', 6),\n",
       " ('jailbreak', 6),\n",
       " ('decent', 6),\n",
       " ('control', 6),\n",
       " ('condition', 6),\n",
       " ('action', 6),\n",
       " ('absolute', 6)]"
      ]
     },
     "execution_count": 306,
     "metadata": {},
     "output_type": "execute_result"
    }
   ],
   "source": [
    "all_words = [w for r in reviews for w in r]\n",
    "freq_words = nltk.FreqDist(all_words)\n",
    "freq_words = dict(filter(lambda elem: elem[1]>5 and elem[0] not in stop_words, freq_words.items()))\n",
    "freq_words = sorted(freq_words.items(), key=lambda item:(item[1],item[0]), reverse=True)\n",
    "freq_words"
   ]
  },
  {
   "cell_type": "code",
   "execution_count": 239,
   "metadata": {},
   "outputs": [
    {
     "data": {
      "text/plain": [
       "''"
      ]
     },
     "execution_count": 239,
     "metadata": {},
     "output_type": "execute_result"
    }
   ],
   "source": []
  },
  {
   "cell_type": "code",
   "execution_count": null,
   "metadata": {},
   "outputs": [],
   "source": []
  }
 ],
 "metadata": {
  "kernelspec": {
   "display_name": "Python 3",
   "language": "python",
   "name": "python3"
  },
  "language_info": {
   "codemirror_mode": {
    "name": "ipython",
    "version": 3
   },
   "file_extension": ".py",
   "mimetype": "text/x-python",
   "name": "python",
   "nbconvert_exporter": "python",
   "pygments_lexer": "ipython3",
   "version": "3.8.5"
  }
 },
 "nbformat": 4,
 "nbformat_minor": 4
}
