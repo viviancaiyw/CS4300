{
 "cells": [
  {
   "cell_type": "code",
   "execution_count": 1,
   "metadata": {
    "ExecuteTime": {
     "end_time": "2021-04-26T11:26:40.205391Z",
     "start_time": "2021-04-26T11:26:39.448453Z"
    }
   },
   "outputs": [],
   "source": [
    "from nltk.corpus import wordnet as wn\n",
    "import os\n",
    "import json"
   ]
  },
  {
   "cell_type": "code",
   "execution_count": 2,
   "metadata": {
    "ExecuteTime": {
     "end_time": "2021-04-26T11:26:41.261157Z",
     "start_time": "2021-04-26T11:26:41.259349Z"
    }
   },
   "outputs": [],
   "source": [
    "free_typing = ['monster', 'geralt', 'storyline', 'touching']\n",
    "input_movie_id = '1083484-blade'"
   ]
  },
  {
   "cell_type": "code",
   "execution_count": null,
   "metadata": {
    "ExecuteTime": {
     "start_time": "2021-04-26T11:26:42.432Z"
    }
   },
   "outputs": [],
   "source": [
    "DATA_DIR = \"/Users/changwei/Documents/GitHub/cs4300sp2021-cw887-qh75-rz92-yc687-yl698/app/data/pca_svd\"\n",
    "EIGENVECTORS_PCA_COLUMNS = \"game_movie_eigenvectors_column.json\"\n",
    "TOKEN_LST_BEFORE_PCA = \"token_list_before_pca.json\"\n",
    "DICT_TOKEN_TO_IDX_BEFORE_PCA = \"dict_token_to_id_before_pca.json\"\n",
    "MOVIE_VECTORS_PCA = \"dict_movieid_to_vector_pca.json\"\n",
    "GAME_VECTORS_PCA = \"dict_gameid_to_vector_pca.json\"\n",
    "\n",
    "with open(os.path.join(DATA_DIR, EIGENVECTORS_PCA_COLUMNS), 'r', encoding='utf8') as in_json:\n",
    "    eigenvectors_column = json.load(in_json)\n",
    "with open(os.path.join(DATA_DIR, TOKEN_LST_BEFORE_PCA), 'r', encoding='utf8') as in_json:\n",
    "    token_list = json.load(in_json)\n",
    "with open(os.path.join(DATA_DIR, DICT_TOKEN_TO_IDX_BEFORE_PCA), 'r', encoding='utf8') as in_json:\n",
    "    dict_token_to_idx = json.load(in_json)\n",
    "with open(os.path.join(DATA_DIR, MOVIE_VECTORS_PCA), 'r', encoding='utf8') as in_json:\n",
    "    movie_vectors = json.load(in_json)\n",
    "with open(os.path.join(DATA_DIR, GAME_VECTORS_PCA), 'r', encoding='utf8') as in_json:\n",
    "    game_vectors = json.load(in_json)"
   ]
  },
  {
   "cell_type": "code",
   "execution_count": null,
   "metadata": {},
   "outputs": [],
   "source": [
    "def return_syns(token):\n",
    "    res = []\n",
    "    syn_n = wn.synsets(token, pos=wn.NOUN)\n",
    "    syn_adj = wn.synsets(token, pos=wn.ADJ)\n",
    "    syns = syn_n + syn_adj\n",
    "    free_listor\n",
    "def ranking_by_cosine_similarity(free_list, movie_id):\n",
    "    qlist = free_list.copy()\n",
    "    "
   ]
  }
 ],
 "metadata": {
  "kernelspec": {
   "display_name": "Python 3",
   "language": "python",
   "name": "python3"
  },
  "language_info": {
   "codemirror_mode": {
    "name": "ipython",
    "version": 3
   },
   "file_extension": ".py",
   "mimetype": "text/x-python",
   "name": "python",
   "nbconvert_exporter": "python",
   "pygments_lexer": "ipython3",
   "version": "3.8.2"
  },
  "varInspector": {
   "cols": {
    "lenName": 16,
    "lenType": 16,
    "lenVar": 40
   },
   "kernels_config": {
    "python": {
     "delete_cmd_postfix": "",
     "delete_cmd_prefix": "del ",
     "library": "var_list.py",
     "varRefreshCmd": "print(var_dic_list())"
    },
    "r": {
     "delete_cmd_postfix": ") ",
     "delete_cmd_prefix": "rm(",
     "library": "var_list.r",
     "varRefreshCmd": "cat(var_dic_list()) "
    }
   },
   "types_to_exclude": [
    "module",
    "function",
    "builtin_function_or_method",
    "instance",
    "_Feature"
   ],
   "window_display": false
  }
 },
 "nbformat": 4,
 "nbformat_minor": 4
}
