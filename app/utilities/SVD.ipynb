{
 "cells": [
  {
   "cell_type": "code",
   "execution_count": 1,
   "metadata": {
    "ExecuteTime": {
     "end_time": "2021-04-29T15:39:15.350461Z",
     "start_time": "2021-04-29T15:39:14.417939Z"
    }
   },
   "outputs": [],
   "source": [
    "import json\n",
    "import os\n",
    "import numpy as np\n",
    "from nltk.corpus import wordnet as wn"
   ]
  },
  {
   "cell_type": "code",
   "execution_count": 2,
   "metadata": {
    "ExecuteTime": {
     "end_time": "2021-04-29T15:39:15.900845Z",
     "start_time": "2021-04-29T15:39:15.898900Z"
    }
   },
   "outputs": [],
   "source": [
    "G_REV_KEYWORD_VEC_FILENAME = 'game_rev_keyword_vec.json'\n",
    "G_REV_WORD_TO_SYNPHRASES_FILENAME = 'game_rev_word_to_synphrase.json'\n",
    "GAME_INFO_FILENAME = 'game_info.json'\n",
    "DATA_DIR = \"/Users/changwei/Documents/GitHub/cs4300sp2021-cw887-qh75-rz92-yc687-yl698/app/data\"\n",
    "MOVIE_INFO_FILENAME = 'movie_info.json'"
   ]
  },
  {
   "cell_type": "code",
   "execution_count": 4,
   "metadata": {
    "ExecuteTime": {
     "end_time": "2021-04-29T15:39:32.813183Z",
     "start_time": "2021-04-29T15:39:32.804959Z"
    }
   },
   "outputs": [
    {
     "data": {
      "text/plain": [
       "2734"
      ]
     },
     "execution_count": 4,
     "metadata": {},
     "output_type": "execute_result"
    }
   ],
   "source": [
    "len(GAME_INFO)"
   ]
  },
  {
   "cell_type": "code",
   "execution_count": 3,
   "metadata": {
    "ExecuteTime": {
     "end_time": "2021-04-29T15:39:26.212373Z",
     "start_time": "2021-04-29T15:39:25.833912Z"
    }
   },
   "outputs": [],
   "source": [
    "with open(os.path.join(DATA_DIR, GAME_INFO_FILENAME), 'r', encoding='utf8') as in_json_file:\n",
    "    GAME_INFO = json.load(in_json_file)\n",
    "with open(os.path.join(DATA_DIR, G_REV_WORD_TO_SYNPHRASES_FILENAME), 'r', encoding='utf8') as in_json_file:\n",
    "    G_REV_WORD_TO_SYNPHRASES = json.load(in_json_file)\n",
    "with open(os.path.join(DATA_DIR, G_REV_KEYWORD_VEC_FILENAME), 'r', encoding='utf8') as in_json_file:\n",
    "    G_REV_KEYWORD_VEC = json.load(in_json_file)\n",
    "with open(os.path.join(DATA_DIR, MOVIE_INFO_FILENAME), 'r', encoding='utf8') as in_json_file:\n",
    "    MOVIE_INFO = json.load(in_json_file)"
   ]
  },
  {
   "cell_type": "code",
   "execution_count": 4,
   "metadata": {
    "ExecuteTime": {
     "end_time": "2021-04-26T14:47:51.397030Z",
     "start_time": "2021-04-26T14:47:50.996389Z"
    }
   },
   "outputs": [],
   "source": [
    "# build the token list, the token includes all from game description, tags, review, and movie description\n",
    "token_dict = dict()\n",
    "for key in GAME_INFO:\n",
    "    for entry in GAME_INFO[key]['tags']:\n",
    "        token_dict[entry] = token_dict.get(entry, 0) + 1\n",
    "    for entry in GAME_INFO[key]['desc_keywords']:\n",
    "        token_dict[entry] = token_dict.get(entry, 0) + 1\n",
    "    if key in G_REV_KEYWORD_VEC:\n",
    "        for entry in G_REV_KEYWORD_VEC[key]['vector'].keys():\n",
    "            token_dict[entry] = token_dict.get(entry, 0) + 1  \n",
    "for key in MOVIE_INFO:\n",
    "    for entry in MOVIE_INFO[key]['desc_keywords']:\n",
    "        token_dict[entry] = token_dict.get(entry, 0) + 1\n",
    "token_lst = np.array(sorted(list(set(token_dict.keys()))))\n",
    "token_count = np.array([token_dict[e] for e in token_lst])\n",
    "num_token = len(token_lst)"
   ]
  },
  {
   "cell_type": "code",
   "execution_count": 5,
   "metadata": {
    "ExecuteTime": {
     "end_time": "2021-04-26T14:47:52.007066Z",
     "start_time": "2021-04-26T14:47:52.002072Z"
    }
   },
   "outputs": [
    {
     "name": "stdout",
     "output_type": "stream",
     "text": [
      "130148\n",
      "['-' '0' '000 french' '000 mark payment' '000 miles'\n",
      " '000 mischievous ghouls descend' '000 pounds' '000 sleeping passengers'\n",
      " '000 years' '001 robo']\n",
      "['zula' 'zuniga' 'zup' 'zurer' 'zus' 'zuwanie' 'zyon' 'zytron' 'édith'\n",
      " 'édith piaf']\n",
      "[1 1 1 ... 1 1 1]\n",
      "9716\n"
     ]
    }
   ],
   "source": [
    "print(len(token_lst))\n",
    "print(token_lst[:10])\n",
    "print(token_lst[-10:])\n",
    "print(token_count)\n",
    "print(np.sum(token_count>3))"
   ]
  },
  {
   "cell_type": "code",
   "execution_count": 6,
   "metadata": {
    "ExecuteTime": {
     "end_time": "2021-04-26T14:47:52.751342Z",
     "start_time": "2021-04-26T14:47:52.735779Z"
    }
   },
   "outputs": [],
   "source": [
    "# only keeping the tokens whose occurrence > 3 out of all sources\n",
    "selected_idx = np.nonzero(token_count > 3)[0]\n",
    "selected_token_lst = token_lst[selected_idx]\n",
    "selected_num_token = len(selected_token_lst)\n",
    "dict_selected_token_to_idx = {t:i for i,t in enumerate(selected_token_lst)}"
   ]
  },
  {
   "cell_type": "code",
   "execution_count": 7,
   "metadata": {
    "ExecuteTime": {
     "end_time": "2021-04-26T14:48:03.665292Z",
     "start_time": "2021-04-26T14:47:53.934472Z"
    }
   },
   "outputs": [
    {
     "name": "stdout",
     "output_type": "stream",
     "text": [
      "3000 movies in total\n",
      "(3000, 9716)\n"
     ]
    }
   ],
   "source": [
    "# build raw movie vectors based on selected token list, each keyword in the movie is weighted 3\n",
    "movie_vectors = dict()\n",
    "for key in MOVIE_INFO:\n",
    "    vector = np.zeros(selected_num_token)\n",
    "    for entry in MOVIE_INFO[key]['desc_keywords']:\n",
    "        if entry in selected_token_lst:\n",
    "            vector[dict_selected_token_to_idx[entry]] += 3\n",
    "    movie_vectors[key] = vector.copy()\n",
    "movie_ids = list(MOVIE_INFO.keys())\n",
    "movie_vectors_2d = np.array([movie_vectors[i] for i in movie_ids])\n",
    "print(len(movie_ids), 'movies in total')\n",
    "print(movie_vectors_2d.shape)"
   ]
  },
  {
   "cell_type": "code",
   "execution_count": 8,
   "metadata": {
    "ExecuteTime": {
     "end_time": "2021-04-26T14:49:02.950679Z",
     "start_time": "2021-04-26T14:48:36.282302Z"
    }
   },
   "outputs": [],
   "source": [
    "# build raw game vectors based on selected token list, tag word is weighted 5\n",
    "# description word 3, review word from the given vector (max weight 2)\n",
    "game_vectors = dict()\n",
    "for key in GAME_INFO:\n",
    "    vector = np.zeros(selected_num_token)\n",
    "    for entry in GAME_INFO[key]['tags']:\n",
    "        if entry in selected_token_lst:\n",
    "            vector[dict_selected_token_to_idx[entry]] += 5\n",
    "    for entry in GAME_INFO[key]['desc_keywords']:\n",
    "        if entry in selected_token_lst:\n",
    "            vector[dict_selected_token_to_idx[entry]] += 3\n",
    "    if key in G_REV_KEYWORD_VEC:\n",
    "        for entry in G_REV_KEYWORD_VEC[key]['vector'].keys():\n",
    "            if entry in selected_token_lst:\n",
    "                vector[dict_selected_token_to_idx[entry]] += G_REV_KEYWORD_VEC[key]['vector'][entry]\n",
    "    game_vectors[key] = vector.copy()"
   ]
  },
  {
   "cell_type": "code",
   "execution_count": 9,
   "metadata": {
    "ExecuteTime": {
     "end_time": "2021-04-26T14:49:21.272033Z",
     "start_time": "2021-04-26T14:49:21.159301Z"
    }
   },
   "outputs": [],
   "source": [
    "# build 2d game np array\n",
    "game_id_lst = list(game_vectors.keys())\n",
    "game_vectors_2d = list()\n",
    "for i in game_id_lst:\n",
    "    game_vectors_2d.append(game_vectors[i])\n",
    "game_vectors_2d = np.array(game_vectors_2d)"
   ]
  },
  {
   "cell_type": "code",
   "execution_count": 10,
   "metadata": {
    "ExecuteTime": {
     "end_time": "2021-04-26T14:49:22.530175Z",
     "start_time": "2021-04-26T14:49:22.526884Z"
    }
   },
   "outputs": [
    {
     "name": "stdout",
     "output_type": "stream",
     "text": [
      "(2734, 9716)\n",
      "2734 games in total\n",
      "9716 tokens in total\n"
     ]
    }
   ],
   "source": [
    "print(game_vectors_2d.shape)\n",
    "print(game_vectors_2d.shape[0], \"games in total\")\n",
    "print(game_vectors_2d.shape[1], \"tokens in total\")"
   ]
  },
  {
   "cell_type": "code",
   "execution_count": 11,
   "metadata": {
    "ExecuteTime": {
     "end_time": "2021-04-26T14:49:23.904039Z",
     "start_time": "2021-04-26T14:49:23.696187Z"
    }
   },
   "outputs": [
    {
     "name": "stdout",
     "output_type": "stream",
     "text": [
      "(5734, 9716)\n"
     ]
    }
   ],
   "source": [
    "# concatenate vectors of games and movies, games at the top, movies at the bottom\n",
    "game_movie_vectors_2d = np.vstack((game_vectors_2d, movie_vectors_2d))\n",
    "print(game_movie_vectors_2d.shape)"
   ]
  },
  {
   "cell_type": "code",
   "execution_count": 12,
   "metadata": {
    "ExecuteTime": {
     "end_time": "2021-04-26T14:49:24.922125Z",
     "start_time": "2021-04-26T14:49:24.797153Z"
    }
   },
   "outputs": [
    {
     "name": "stdout",
     "output_type": "stream",
     "text": [
      "[ 4 20 42 ...  5 12  5]\n",
      "[0.43067656 0.22767025 0.18428883 ... 0.38685281 0.27023815 0.38685281]\n",
      "9716\n"
     ]
    }
   ],
   "source": [
    "# calculate the idf-value for each selected term\n",
    "term_count_by_doc = np.sum(game_movie_vectors_2d > 0, axis=0)\n",
    "print(term_count_by_doc)\n",
    "idf_array = 1 / np.log2(term_count_by_doc + 1)\n",
    "print(idf_array)\n",
    "print(len(idf_array))"
   ]
  },
  {
   "cell_type": "code",
   "execution_count": 13,
   "metadata": {
    "ExecuteTime": {
     "end_time": "2021-04-26T14:49:28.133428Z",
     "start_time": "2021-04-26T14:49:27.870518Z"
    }
   },
   "outputs": [],
   "source": [
    "# multiply the 2d vector array with idf value\n",
    "game_movie_vectors_2d *= idf_array\n",
    "game_movie_vectors_2d_normalized = game_movie_vectors_2d - np.mean(game_movie_vectors_2d, axis=0)"
   ]
  },
  {
   "cell_type": "code",
   "execution_count": 14,
   "metadata": {
    "ExecuteTime": {
     "end_time": "2021-04-26T14:52:41.478230Z",
     "start_time": "2021-04-26T14:49:31.858405Z"
    }
   },
   "outputs": [],
   "source": [
    "# svd\n",
    "u, s, vh = np.linalg.svd(game_movie_vectors_2d_normalized)"
   ]
  },
  {
   "cell_type": "code",
   "execution_count": 32,
   "metadata": {
    "ExecuteTime": {
     "end_time": "2021-04-26T16:44:36.664153Z",
     "start_time": "2021-04-26T16:44:36.660626Z"
    }
   },
   "outputs": [
    {
     "name": "stdout",
     "output_type": "stream",
     "text": [
      "2576\n",
      "(9716, 9716)\n"
     ]
    }
   ],
   "source": [
    "# keeping 95% variance\n",
    "cutoff_idx = np.nonzero((np.cumsum(s)/np.sum(s)) > 0.7)[0][0] + 1\n",
    "print(cutoff_idx)\n",
    "print(vh.shape)"
   ]
  },
  {
   "cell_type": "code",
   "execution_count": 33,
   "metadata": {
    "ExecuteTime": {
     "end_time": "2021-04-26T16:44:38.183647Z",
     "start_time": "2021-04-26T16:44:38.180888Z"
    }
   },
   "outputs": [
    {
     "name": "stdout",
     "output_type": "stream",
     "text": [
      "(9716, 2576)\n"
     ]
    }
   ],
   "source": [
    "v_pca = vh[:cutoff_idx].T\n",
    "print(v_pca.shape)"
   ]
  },
  {
   "cell_type": "code",
   "execution_count": 34,
   "metadata": {
    "ExecuteTime": {
     "end_time": "2021-04-26T16:44:40.606608Z",
     "start_time": "2021-04-26T16:44:39.086425Z"
    }
   },
   "outputs": [
    {
     "name": "stdout",
     "output_type": "stream",
     "text": [
      "(5734, 2576)\n",
      "(2734, 2576)\n",
      "(3000, 2576)\n"
     ]
    }
   ],
   "source": [
    "# projecting the raw vectors of games and movies into new basis, store as dictionary\n",
    "game_movie_vectors_2d_pca = game_movie_vectors_2d_normalized.dot(v_pca)\n",
    "game_vectors_2d_pca = game_movie_vectors_2d_pca[:2734]\n",
    "movie_vectors_2d_pca = game_movie_vectors_2d_pca[2734:]\n",
    "print(game_movie_vectors_2d_pca.shape)\n",
    "print(game_vectors_2d_pca.shape)\n",
    "print(movie_vectors_2d_pca.shape)\n",
    "dict_game_vectors_2d_pca = {i:vec.tolist() for i, vec in zip(game_id_lst, game_vectors_2d_pca)}\n",
    "dict_movie_vectors_2d_pca = {i:vec.tolist() for i, vec in zip(movie_ids, movie_vectors_2d_pca)}"
   ]
  },
  {
   "cell_type": "code",
   "execution_count": 35,
   "metadata": {
    "ExecuteTime": {
     "end_time": "2021-04-26T16:45:50.358348Z",
     "start_time": "2021-04-26T16:44:58.911507Z"
    }
   },
   "outputs": [],
   "source": [
    "STORE_DIR = \"/Users/changwei/Documents/GitHub/cs4300sp2021-cw887-qh75-rz92-yc687-yl698/app/data/pca_svd\"\n",
    "GAME_VECTORS_PCA = \"dict_gameid_to_vector_pca.json\"\n",
    "MOVIE_VECTORS_PCA = \"dict_movieid_to_vector_pca.json\"\n",
    "EIGENVECTORS_PCA_COLUMNS = \"game_movie_eigenvectors_column.json\"\n",
    "TOKEN_LST_BEFORE_PCA = \"token_list_before_pca.json\"\n",
    "DICT_TOKEN_TO_IDX_BEFORE_PCA = \"dict_token_to_id_before_pca.json\"\n",
    "IDF_ARRAY = \"idf_array_before_pca.json\"\n",
    "\n",
    "with open(os.path.join(STORE_DIR, GAME_VECTORS_PCA), 'w', encoding='utf8') as to_json:\n",
    "    json.dump(dict_game_vectors_2d_pca, to_json)\n",
    "with open(os.path.join(STORE_DIR, MOVIE_VECTORS_PCA), 'w', encoding='utf8') as to_json:\n",
    "    json.dump(dict_movie_vectors_2d_pca, to_json)\n",
    "with open(os.path.join(STORE_DIR, EIGENVECTORS_PCA_COLUMNS), 'w', encoding='utf8') as to_json:\n",
    "    json.dump(v_pca.tolist(), to_json)\n",
    "with open(os.path.join(STORE_DIR, TOKEN_LST_BEFORE_PCA), 'w', encoding='utf8') as to_json:\n",
    "    json.dump(selected_token_lst.tolist(), to_json)\n",
    "with open(os.path.join(STORE_DIR, DICT_TOKEN_TO_IDX_BEFORE_PCA), 'w', encoding='utf8') as to_json:\n",
    "    json.dump(dict_selected_token_to_idx, to_json)\n",
    "with open(os.path.join(STORE_DIR, IDF_ARRAY), 'w', encoding='utf8') as to_json:\n",
    "    json.dump(idf_array.tolist(), to_json)"
   ]
  },
  {
   "cell_type": "code",
   "execution_count": null,
   "metadata": {},
   "outputs": [],
   "source": []
  }
 ],
 "metadata": {
  "kernelspec": {
   "display_name": "Python 3",
   "language": "python",
   "name": "python3"
  },
  "language_info": {
   "codemirror_mode": {
    "name": "ipython",
    "version": 3
   },
   "file_extension": ".py",
   "mimetype": "text/x-python",
   "name": "python",
   "nbconvert_exporter": "python",
   "pygments_lexer": "ipython3",
   "version": "3.8.2"
  },
  "varInspector": {
   "cols": {
    "lenName": 16,
    "lenType": 16,
    "lenVar": 40
   },
   "kernels_config": {
    "python": {
     "delete_cmd_postfix": "",
     "delete_cmd_prefix": "del ",
     "library": "var_list.py",
     "varRefreshCmd": "print(var_dic_list())"
    },
    "r": {
     "delete_cmd_postfix": ") ",
     "delete_cmd_prefix": "rm(",
     "library": "var_list.r",
     "varRefreshCmd": "cat(var_dic_list()) "
    }
   },
   "types_to_exclude": [
    "module",
    "function",
    "builtin_function_or_method",
    "instance",
    "_Feature"
   ],
   "window_display": false
  }
 },
 "nbformat": 4,
 "nbformat_minor": 4
}
