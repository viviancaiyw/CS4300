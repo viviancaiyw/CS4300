{
 "cells": [
  {
   "cell_type": "code",
   "execution_count": 1,
   "metadata": {
    "ExecuteTime": {
     "end_time": "2021-04-26T15:29:42.394916Z",
     "start_time": "2021-04-26T15:29:41.912875Z"
    }
   },
   "outputs": [],
   "source": [
    "from nltk.corpus import wordnet as wn\n",
    "import os\n",
    "import json\n",
    "import numpy as np"
   ]
  },
  {
   "cell_type": "code",
   "execution_count": 8,
   "metadata": {
    "ExecuteTime": {
     "end_time": "2021-04-26T15:32:00.521861Z",
     "start_time": "2021-04-26T15:32:00.519459Z"
    }
   },
   "outputs": [],
   "source": [
    "# test data, free typing and movie id\n",
    "# 1068044-jumanji, godfather, titanic, mission_impossible\n",
    "free_typing = ['gun', 'crime']\n",
    "input_movie_id = 'godfather'"
   ]
  },
  {
   "cell_type": "code",
   "execution_count": 3,
   "metadata": {
    "ExecuteTime": {
     "end_time": "2021-04-26T15:30:08.493818Z",
     "start_time": "2021-04-26T15:29:45.198471Z"
    }
   },
   "outputs": [],
   "source": [
    "DATA_DIR = \"/Users/changwei/Documents/GitHub/cs4300sp2021-cw887-qh75-rz92-yc687-yl698/app/data/pca_svd\"\n",
    "GAME_INFO_DIR = \"/Users/changwei/Documents/GitHub/cs4300sp2021-cw887-qh75-rz92-yc687-yl698/app/data\"\n",
    "EIGENVECTORS_PCA_COLUMNS = \"game_movie_eigenvectors_column.json\"\n",
    "TOKEN_LST_BEFORE_PCA = \"token_list_before_pca.json\"\n",
    "DICT_TOKEN_TO_IDX_BEFORE_PCA = \"dict_token_to_id_before_pca.json\"\n",
    "MOVIE_VECTORS_PCA = \"dict_movieid_to_vector_pca.json\"\n",
    "GAME_VECTORS_PCA = \"dict_gameid_to_vector_pca.json\"\n",
    "GAME_INFO_FILENAME = 'game_info.json'\n",
    "\n",
    "with open(os.path.join(DATA_DIR, EIGENVECTORS_PCA_COLUMNS), 'r', encoding='utf8') as in_json:\n",
    "    eigenvectors_column = json.load(in_json)\n",
    "with open(os.path.join(DATA_DIR, TOKEN_LST_BEFORE_PCA), 'r', encoding='utf8') as in_json:\n",
    "    token_list = json.load(in_json)\n",
    "with open(os.path.join(DATA_DIR, DICT_TOKEN_TO_IDX_BEFORE_PCA), 'r', encoding='utf8') as in_json:\n",
    "    dict_token_to_idx = json.load(in_json)\n",
    "with open(os.path.join(DATA_DIR, MOVIE_VECTORS_PCA), 'r', encoding='utf8') as in_json:\n",
    "    movie_vectors = json.load(in_json)\n",
    "with open(os.path.join(DATA_DIR, GAME_VECTORS_PCA), 'r', encoding='utf8') as in_json:\n",
    "    game_vectors = json.load(in_json)\n",
    "with open(os.path.join(GAME_INFO_DIR, GAME_INFO_FILENAME), 'r', encoding='utf8') as in_json_file:\n",
    "    GAME_INFO = json.load(in_json_file)"
   ]
  },
  {
   "cell_type": "code",
   "execution_count": 20,
   "metadata": {
    "ExecuteTime": {
     "end_time": "2021-04-26T16:00:13.762550Z",
     "start_time": "2021-04-26T16:00:11.739101Z"
    }
   },
   "outputs": [
    {
     "name": "stdout",
     "output_type": "stream",
     "text": [
      "(9716, 4731)\n",
      "(2734, 4731)\n"
     ]
    }
   ],
   "source": [
    "eigenvectors = np.array(eigenvectors_column)\n",
    "game_id_list = np.array(list(game_vectors.keys()))\n",
    "dict_gameid_to_idx = {gid:i for i, gid in enumerate(game_id_list)}\n",
    "game_vectors_2d = np.array([game_vectors[key] for key in game_id_list])\n",
    "print(eigenvectors.shape)\n",
    "print(game_vectors_2d.shape)"
   ]
  },
  {
   "cell_type": "code",
   "execution_count": 18,
   "metadata": {
    "ExecuteTime": {
     "end_time": "2021-04-26T15:53:11.606262Z",
     "start_time": "2021-04-26T15:53:11.597109Z"
    }
   },
   "outputs": [],
   "source": [
    "# return a list of syns of given token\n",
    "def return_syns(token)->list:\n",
    "    res = []\n",
    "    syn_n = wn.synsets(token, pos=wn.NOUN)\n",
    "    syn_adj = wn.synsets(token, pos=wn.ADJ)\n",
    "    syns = syn_n + syn_adj\n",
    "    for syn in syns:\n",
    "        for lem in syn.lemmas():\n",
    "            res.append(lem.name())\n",
    "    return res\n",
    "\n",
    "#\n",
    "def ranking_by_cosine_similarity(free_list, movie_id)->list:\n",
    "    \"\"\"\n",
    "    free_list is the list of free typing strs\n",
    "    \"\"\"\n",
    "    mvec = np.array(movie_vectors[movie_id])\n",
    "    if not free_list:\n",
    "        qvec = mvec\n",
    "    else:\n",
    "        qlist = [entry.lower() for entry in free_list]\n",
    "        for entry in qlist:\n",
    "            if ' ' in entry:\n",
    "                qlist.extend(entry.split())\n",
    "        for term in free_list:\n",
    "            qlist.extend(return_syns(term))\n",
    "        qlist = list(set(qlist))\n",
    "    \n",
    "        qvec = np.zeros(len(token_list))\n",
    "        for term in qlist:\n",
    "            if term in token_list:\n",
    "                if term in free_list:\n",
    "                    qvec[dict_token_to_idx[term]] += 5\n",
    "                else:\n",
    "                    qvec[dict_token_to_idx[term]] += 2\n",
    "        qvec = np.matmul(qvec, eigenvectors)\n",
    "        qvec += mvec\n",
    "    \n",
    "    game_norms = np.linalg.norm(game_vectors_2d, axis=1)\n",
    "    \n",
    "    scores = np.dot(game_vectors_2d, qvec) / game_norms\n",
    "    rank_idx_20 = np.flip(np.argsort(scores))[:20]\n",
    "    rank_gameid_20 = game_id_list[rank_idx_20]\n",
    "    rank_name_20 = [GAME_INFO[key]['name'] for key in rank_gameid_20]\n",
    "    return [(rank_gameid_20[i], rank_name_20[i], scores[rank_idx_20[i]]) for i in range(20)], qvec\n",
    "    "
   ]
  },
  {
   "cell_type": "code",
   "execution_count": 6,
   "metadata": {
    "ExecuteTime": {
     "end_time": "2021-04-26T15:30:45.396992Z",
     "start_time": "2021-04-26T15:30:42.137912Z"
    }
   },
   "outputs": [
    {
     "data": {
      "text/plain": [
       "['touch', 'touching', 'touch', 'touching', 'affecting', 'poignant', 'touching']"
      ]
     },
     "execution_count": 6,
     "metadata": {},
     "output_type": "execute_result"
    }
   ],
   "source": [
    "return_syns('touching')"
   ]
  },
  {
   "cell_type": "code",
   "execution_count": 28,
   "metadata": {
    "ExecuteTime": {
     "end_time": "2021-04-26T16:14:05.893980Z",
     "start_time": "2021-04-26T16:14:05.824878Z"
    }
   },
   "outputs": [
    {
     "data": {
      "text/plain": [
       "([('233370', 'The Raven - Legacy of a Master Thief', 1.6628290082864796),\n",
       "  ('1030830', 'Mafia II: Definitive Edition', 1.365286977378788),\n",
       "  ('40990', 'Mafia', 1.2799347210157626),\n",
       "  ('21780', 'Driver Parallel Lines', 1.2621576142280475),\n",
       "  ('354500', 'PAYDAY: The Web Series', 1.2549795793052239),\n",
       "  ('1030840', 'Mafia: Definitive Edition', 1.2193679499878438),\n",
       "  ('443810', 'This Is the Police', 1.1889673609984395),\n",
       "  ('605740',\n",
       "   'Flashing Lights - Police, Firefighting, Emergency Services Simulator',\n",
       "   1.142025827721868),\n",
       "  ('318220', 'Enforcer: Police Crime Action', 1.1323869329965712),\n",
       "  ('584980', 'Late Shift', 1.1252952916915862),\n",
       "  ('255280', '1954 Alcatraz', 1.1007059144879268),\n",
       "  ('50130', 'Mafia II (Classic)', 1.0987729579285255),\n",
       "  ('17430', 'Need for Speed Undercover', 1.0619964781831053),\n",
       "  ('208520', 'Omerta - City of Gangsters', 1.0471394484528243),\n",
       "  ('704210', 'BLOCK WARRIORS: Open World Game', 1.0080758674197225),\n",
       "  ('358150', \"PAYDAY 2: The Butcher's BBQ Pack\", 0.9686488429658782),\n",
       "  ('350640', \"Sherlock Holmes: The Devil's Daughter\", 0.9676837139345262),\n",
       "  ('834530', 'Yakuza Kiwami', 0.9340634641293373),\n",
       "  ('682990', 'Drug Dealer Simulator', 0.8990059444196443),\n",
       "  ('113020', \"Monaco: What's Yours Is Mine\", 0.8661407705790661)],\n",
       " array([-0.60775455,  0.04905894, -0.15410217, ...,  0.13579333,\n",
       "         0.07155341, -0.03495103]))"
      ]
     },
     "execution_count": 28,
     "metadata": {},
     "output_type": "execute_result"
    }
   ],
   "source": [
    "# test data, free typing and movie id\n",
    "# movieid example: 1068044-jumanji, godfather, titanic, mission_impossible, world-war-z, star_wars_episode_i_the_phantom_menace\n",
    "free_typing = ['crime', 'chase']\n",
    "input_movie_id = 'godfather'\n",
    "ranking_by_cosine_similarity(free_typing, input_movie_id)"
   ]
  },
  {
   "cell_type": "code",
   "execution_count": 27,
   "metadata": {
    "ExecuteTime": {
     "end_time": "2021-04-26T16:07:29.693654Z",
     "start_time": "2021-04-26T16:07:29.690667Z"
    }
   },
   "outputs": [],
   "source": [
    "# if not useful, it indicates that the distance between the game vector and the query vector \n",
    "# should not be as close as they are originally. Conversely, if useful, it indicates that the\n",
    "# distance between two vectors should be closer.\n",
    "def vector_update(useful, gameid, qvec):\n",
    "    if useful == True:\n",
    "        game_vectors_2d[dict_gameid_to_idx[gameid]] += 1/100 * qvec\n",
    "    else:\n",
    "        game_vectors_2d[dict_gameid_to_idx[gameid]] -= 1/50 * qvec    "
   ]
  },
  {
   "cell_type": "code",
   "execution_count": 26,
   "metadata": {
    "ExecuteTime": {
     "end_time": "2021-04-26T16:05:27.008744Z",
     "start_time": "2021-04-26T16:05:27.004342Z"
    }
   },
   "outputs": [
    {
     "data": {
      "text/plain": [
       "array([-0.09051644, -0.72745856,  0.19479312, ..., -0.02940112,\n",
       "       -0.02888876,  0.00465072])"
      ]
     },
     "execution_count": 26,
     "metadata": {},
     "output_type": "execute_result"
    }
   ],
   "source": [
    "game_vectors_2d[dict_gameid_to_idx['289300']]"
   ]
  },
  {
   "cell_type": "code",
   "execution_count": 16,
   "metadata": {
    "ExecuteTime": {
     "end_time": "2021-04-26T15:43:40.843894Z",
     "start_time": "2021-04-26T15:43:40.840162Z"
    }
   },
   "outputs": [
    {
     "data": {
      "text/plain": [
       "False"
      ]
     },
     "execution_count": 16,
     "metadata": {},
     "output_type": "execute_result"
    }
   ],
   "source": [
    "'high-strength' in token_list"
   ]
  },
  {
   "cell_type": "code",
   "execution_count": null,
   "metadata": {},
   "outputs": [],
   "source": []
  }
 ],
 "metadata": {
  "kernelspec": {
   "display_name": "Python 3",
   "language": "python",
   "name": "python3"
  },
  "language_info": {
   "codemirror_mode": {
    "name": "ipython",
    "version": 3
   },
   "file_extension": ".py",
   "mimetype": "text/x-python",
   "name": "python",
   "nbconvert_exporter": "python",
   "pygments_lexer": "ipython3",
   "version": "3.8.2"
  },
  "varInspector": {
   "cols": {
    "lenName": 16,
    "lenType": 16,
    "lenVar": 40
   },
   "kernels_config": {
    "python": {
     "delete_cmd_postfix": "",
     "delete_cmd_prefix": "del ",
     "library": "var_list.py",
     "varRefreshCmd": "print(var_dic_list())"
    },
    "r": {
     "delete_cmd_postfix": ") ",
     "delete_cmd_prefix": "rm(",
     "library": "var_list.r",
     "varRefreshCmd": "cat(var_dic_list()) "
    }
   },
   "types_to_exclude": [
    "module",
    "function",
    "builtin_function_or_method",
    "instance",
    "_Feature"
   ],
   "window_display": false
  }
 },
 "nbformat": 4,
 "nbformat_minor": 4
}
